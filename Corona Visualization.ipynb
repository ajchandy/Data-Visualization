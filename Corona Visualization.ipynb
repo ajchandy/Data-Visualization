{
 "cells": [
  {
   "cell_type": "code",
   "execution_count": 4,
   "metadata": {},
   "outputs": [],
   "source": [
    "import folium\n",
    "import pandas as pd\n",
    "\n",
    "coronavirus_cases=pd.read_csv('C:/Akhil/USF BAIS/Data Vis/04-01-2020.csv')\n",
    "# Find out columns with missing values with their count\n",
    "coronavirus_cases.isnull().sum(axis=0)\n",
    "\n",
    "coronavirus_cases = coronavirus_cases[coronavirus_cases['Lat'].notna()&coronavirus_cases['Long_'].notna()]\n",
    "\n"
   ]
  },
  {
   "cell_type": "code",
   "execution_count": 6,
   "metadata": {},
   "outputs": [],
   "source": [
    "coronavirus_cases=coronavirus_cases.loc[coronavirus_cases['Confirmed']>0]"
   ]
  },
  {
   "cell_type": "code",
   "execution_count": 8,
   "metadata": {},
   "outputs": [],
   "source": [
    "\n",
    "m = folium.Map(location=[20, 0], zoom_start=1.5)\n",
    "\n",
    "for i in range(0,len(coronavirus_cases)):\n",
    "   folium.Circle(\n",
    "      location=[coronavirus_cases.iloc[i]['Lat'], coronavirus_cases.iloc[i]['Long_']],\n",
    "      popup=coronavirus_cases.iloc[i]['Combined_Key'],\n",
    "      radius=float(coronavirus_cases.iloc[i]['Confirmed']),\n",
    "      tooltip=coronavirus_cases.iloc[i]['Confirmed'],\n",
    "      color='crimson',\n",
    "      fill=True,\n",
    "      fill_color='crimson',\n",
    "      max_bounds=True\n",
    "   ).add_to(m)\n",
    "\n",
    "m.save('mymap.html')\n",
    "display(m)"
   ]
  },
  {
   "cell_type": "code",
   "execution_count": null,
   "metadata": {},
   "outputs": [],
   "source": []
  }
 ],
 "metadata": {
  "kernelspec": {
   "display_name": "Python 3",
   "language": "python",
   "name": "python3"
  },
  "language_info": {
   "codemirror_mode": {
    "name": "ipython",
    "version": 3
   },
   "file_extension": ".py",
   "mimetype": "text/x-python",
   "name": "python",
   "nbconvert_exporter": "python",
   "pygments_lexer": "ipython3",
   "version": "3.7.6"
  }
 },
 "nbformat": 4,
 "nbformat_minor": 4
}
